{
 "cells": [
  {
   "cell_type": "code",
   "execution_count": null,
   "id": "901671e2",
   "metadata": {},
   "outputs": [],
   "source": [
    "# Example of IPGENF \n",
    "\n",
    "from VotingPowerFunctions import ipgenf\n",
    "\n",
    "quota = 173 # example based on EU weighted majority voting\n",
    "\n",
    "weights=[29,29,29,29,27,27,14,13,12,12,12,12,12,10,10,10,7,7,7,7,7,4,4,4,4,4,3]\n",
    "\n",
    "result_df = ipgenf(quota, weights)\n"
   ]
  },
  {
   "cell_type": "code",
   "execution_count": null,
   "id": "74685f02",
   "metadata": {},
   "outputs": [],
   "source": [
    "# Example of IPDIRECT\n",
    "\n",
    "# This will only feasibly run with <25 players\n",
    "\n",
    "from VotingPowerFunctions import ipdirect\n",
    "\n",
    "# random example\n",
    "\n",
    "weights=[30, 20, 40, 5, 11, 13, 10]\n",
    "\n",
    "quota = sum(weights)/2\n",
    "\n",
    "result_df = ipdirect(quota, weights)"
   ]
  }
 ],
 "metadata": {
  "kernelspec": {
   "display_name": "Python 3 (ipykernel)",
   "language": "python",
   "name": "python3"
  },
  "language_info": {
   "codemirror_mode": {
    "name": "ipython",
    "version": 3
   },
   "file_extension": ".py",
   "mimetype": "text/x-python",
   "name": "python",
   "nbconvert_exporter": "python",
   "pygments_lexer": "ipython3",
   "version": "3.9.20"
  }
 },
 "nbformat": 4,
 "nbformat_minor": 5
}
