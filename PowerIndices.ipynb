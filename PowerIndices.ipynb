{
 "cells": [
  {
   "cell_type": "code",
   "execution_count": null,
   "id": "901671e2",
   "metadata": {},
   "outputs": [],
   "source": [
    "# Example of IPGENF \n",
    "from VotingPowerFunctions import ipgenf\n",
    "\n",
    "quota = 173 # example based on EU weighted majority voting\n",
    "\n",
    "weights=[29,29,29,29,27,27,14,13,12,12,12,12,12,10,10,10,7,7,7,7,7,4,4,4,4,4,3]\n",
    "\n",
    "\n",
    "result_df = ipgenf(quota, weights)"
   ]
  },
  {
   "cell_type": "code",
   "execution_count": 15,
   "id": "74685f02",
   "metadata": {},
   "outputs": [
    {
     "name": "stdout",
     "output_type": "stream",
     "text": [
      "\n",
      "Power Indices Results:\n",
      "Number of winning coalitions: 16384\n",
      " Player  Weight  Banzhaf_Index  Normalized_Banzhaf      PPA      PIA  PTA\n",
      "      1      29       0.101211            0.292847 0.292847 0.292847  0.5\n",
      "      2      29       0.101211            0.292847 0.292847 0.292847  0.5\n",
      "      3      29       0.101211            0.292847 0.292847 0.292847  0.5\n",
      "      4      29       0.101211            0.292847 0.292847 0.292847  0.5\n",
      "      5      27       0.097498            0.282104 0.282104 0.282104  0.5\n",
      "      6      27       0.097498            0.282104 0.282104 0.282104  0.5\n",
      "      7      14       0.047462            0.137329 0.137329 0.137329  0.5\n",
      "      8      13       0.047462            0.137329 0.137329 0.137329  0.5\n",
      "      9      12       0.044087            0.127563 0.127563 0.127563  0.5\n",
      "     10      12       0.044087            0.127563 0.127563 0.127563  0.5\n",
      "     11      12       0.044087            0.127563 0.127563 0.127563  0.5\n",
      "     12      12       0.044087            0.127563 0.127563 0.127563  0.5\n",
      "     13      12       0.044087            0.127563 0.127563 0.127563  0.5\n",
      "     14      10       0.042400            0.122681 0.122681 0.122681  0.5\n",
      "     15      10       0.042400            0.122681 0.122681 0.122681  0.5\n"
     ]
    }
   ],
   "source": [
    "# Example of IPDIRECT\n",
    "\n",
    "# This will only feasibly run with <25 players\n",
    "from VotingPowerFunctions import ipdirect\n",
    "\n",
    "# random example\n",
    "\n",
    "weights=[29,29,29,29,27,27,14,13,12,12,12,12,12,10,10]\n",
    "\n",
    "quota = sum(weights)/2\n",
    "\n",
    "result_df = ipdirect(quota, weights)"
   ]
  }
 ],
 "metadata": {
  "kernelspec": {
   "display_name": "Python 3 (ipykernel)",
   "language": "python",
   "name": "python3"
  },
  "language_info": {
   "codemirror_mode": {
    "name": "ipython",
    "version": 3
   },
   "file_extension": ".py",
   "mimetype": "text/x-python",
   "name": "python",
   "nbconvert_exporter": "python",
   "pygments_lexer": "ipython3",
   "version": "3.9.20"
  }
 },
 "nbformat": 4,
 "nbformat_minor": 5
}
